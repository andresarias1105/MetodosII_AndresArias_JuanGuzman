{
 "cells": [
  {
   "cell_type": "code",
   "execution_count": 1,
   "id": "32152860",
   "metadata": {},
   "outputs": [],
   "source": [
    "import numpy as np\n",
    "import matplotlib.pyplot as plt\n",
    "from scipy.integrate import odeint\n",
    "import sympy as sym"
   ]
  },
  {
   "cell_type": "code",
   "execution_count": 2,
   "id": "5c2fcdf7",
   "metadata": {},
   "outputs": [],
   "source": [
    "def f(y,x):\n",
    "    \n",
    "\n",
    "    \n",
    "    dydt =  x + 2*y\n",
    " \n",
    "    \n",
    "    return dydt"
   ]
  },
  {
   "cell_type": "code",
   "execution_count": 36,
   "id": "6ecbb241",
   "metadata": {},
   "outputs": [],
   "source": [
    "def IntegratorAdams(f,r0,t):\n",
    "    \n",
    "    h = t[1] - t[0]\n",
    "    \n",
    "    y = np.zeros_like(t)\n",
    "   \n",
    "    \n",
    "    y[0] = r0\n",
    "  \n",
    "    # RungeKutta4\n",
    "    for i in range(0,4):\n",
    "        present = y[i]\n",
    "        K11 = f(present,t[i])\n",
    "        K12 = f(present+0.5*K11*h,t[i]+0.5h)\n",
    "        K13 = f(present+0.5*K12*h,t[i]+0.5*h)\n",
    "        K14 = f(present+K13*h,t[i]+h)\n",
    "    \n",
    "        y[i+1] = y[i] + h*(K11+2*K12+2*K13+K14)/6\n",
    "      \n",
    "        \n",
    "    yc = y.copy()\n",
    "  \n",
    "    \n",
    "    for i in range(5,len(t)):\n",
    "        \n",
    "        # Bashforth\n",
    "        \n",
    "        present = y[i-1]\n",
    "        past = y[i-2]\n",
    "        past2 = y[i-3]\n",
    "        past3 = y[i-4]\n",
    "        past4 = y[i-5]\n",
    "        \n",
    "        K11 = f(present,t[i-1])\n",
    "        K12 = f(past,t[i-2])\n",
    "        K13 = f(past2,t[i-3])\n",
    "        K14 = f(past3,t[i-4])\n",
    "        K15 = f(past4,t[i-5])\n",
    "        \n",
    "        y[i] = y[i-1] + h*((1901/720)*K11 - (2774/720)*K12 + (2616/720)*K13 -(1274/720)*K14 + (251/720)*K15)\n",
    "       \n",
    "        # Moulton\n",
    "        futuro = y[i]\n",
    "        KF = f(futuro,t[i])\n",
    "        \n",
    "        yc[i] = yc[i-1] + h*((475/1440)*KF + (1427/1440)*K11- (798/1440)*K12 + (482/1440)*K13 - (173/1440)*K14 + (27/1440)*K15)\n",
    "        \n",
    "    \n",
    "    return yc"
   ]
  },
  {
   "cell_type": "markdown",
   "id": "6785f08b",
   "metadata": {},
   "source": [
    "Los Puntos $n=1,2,3,4$ se encontraron con Runge-Kutta de orden 4"
   ]
  },
  {
   "cell_type": "code",
   "execution_count": 37,
   "id": "e407fe71",
   "metadata": {},
   "outputs": [],
   "source": [
    "y0=0\n",
    "x=np.linspace(0.,4.,100)\n",
    "sol_num = IntegratorAdams(f,y0,x)\n"
   ]
  },
  {
   "cell_type": "code",
   "execution_count": 43,
   "id": "68efe2d0",
   "metadata": {},
   "outputs": [],
   "source": [
    "def sol(x):\n",
    "    \n",
    "    return -0.5*x - ((1-np.exp(2*x))/4)"
   ]
  },
  {
   "cell_type": "code",
   "execution_count": 44,
   "id": "fac01119",
   "metadata": {},
   "outputs": [],
   "source": [
    "Exact=sol(x)"
   ]
  },
  {
   "cell_type": "code",
   "execution_count": 54,
   "id": "e1b307ff",
   "metadata": {},
   "outputs": [
    {
     "data": {
      "text/plain": [
       "<matplotlib.legend.Legend at 0x229eb367250>"
      ]
     },
     "execution_count": 54,
     "metadata": {},
     "output_type": "execute_result"
    },
    {
     "data": {
      "image/png": "[encoded data removed]",
      "text/plain": [
       "<Figure size 432x288 with 1 Axes>"
      ]
     },
     "metadata": {
      "needs_background": "light"
     },
     "output_type": "display_data"
    }
   ],
   "source": [
    "fig=plt.figure()\n",
    "ax=fig.add_subplot()\n",
    "plt.yscale(\"log\")\n",
    "ax.plot(x,Exact,c=\"b\",label=\"Exacta\")\n",
    "ax.plot(x,sol_num,c=\"r\",label=\"Multipaso\")\n",
    "plt.legend()"
   ]
  },
  {
   "cell_type": "code",
   "execution_count": 55,
   "id": "737e3f52",
   "metadata": {},
   "outputs": [
    {
     "data": {
      "text/plain": [
       "<matplotlib.legend.Legend at 0x229eb8714f0>"
      ]
     },
     "execution_count": 55,
     "metadata": {},
     "output_type": "execute_result"
    },
    {
     "data": {
      "image/png": "[encoded data removed]",
      "text/plain": [
       "<Figure size 432x288 with 1 Axes>"
      ]
     },
     "metadata": {
      "needs_background": "light"
     },
     "output_type": "display_data"
    }
   ],
   "source": [
    "plt.plot(x,Exact,c=\"b\",label=\"Exacta\")\n",
    "plt.plot(x,sol_num,c=\"r\",label=\"Multipaso\")\n",
    "plt.legend()"
   ]
  },
  {
   "cell_type": "code",
   "execution_count": 53,
   "id": "dcd444df",
   "metadata": {},
   "outputs": [
    {
     "data": {
      "text/plain": [
       "<matplotlib.legend.Legend at 0x229eb612250>"
      ]
     },
     "execution_count": 53,
     "metadata": {},
     "output_type": "execute_result"
    },
    {
     "data": {
      "image/png": "[encoded data removed]",
      "text/plain": [
       "<Figure size 432x288 with 1 Axes>"
      ]
     },
     "metadata": {
      "needs_background": "light"
     },
     "output_type": "display_data"
    }
   ],
   "source": [
    "plt.plot(x,np.abs(Exact-sol_num),label=\"Error relativo\")\n",
    "plt.yscale(\"log\")\n",
    "plt.legend()"
   ]
  },
  {
   "cell_type": "code",
   "execution_count": null,
   "id": "447fe905",
   "metadata": {},
   "outputs": [],
   "source": []
  },
  {
   "cell_type": "code",
   "execution_count": null,
   "id": "d6b7cddb",
   "metadata": {},
   "outputs": [],
   "source": []
  }
 ],
 "metadata": {
  "kernelspec": {
   "display_name": "Python 3 (ipykernel)",
   "language": "python",
   "name": "python3"
  },
  "language_info": {
   "codemirror_mode": {
    "name": "ipython",
    "version": 3
   },
   "file_extension": ".py",
   "mimetype": "text/x-python",
   "name": "python",
   "nbconvert_exporter": "python",
   "pygments_lexer": "ipython3",
   "version": "3.9.7"
  }
 },
 "nbformat": 4,
 "nbformat_minor": 5
}
