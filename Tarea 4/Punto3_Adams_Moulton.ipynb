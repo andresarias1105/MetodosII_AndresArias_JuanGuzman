{
 "cells": [
  {
   "cell_type": "code",
   "execution_count": 1,
   "id": "3150ff25",
   "metadata": {},
   "outputs": [],
   "source": [
    "import numpy as np\n",
    "import matplotlib.pyplot as plt\n",
    "from scipy.integrate import odeint\n",
    "import sympy as sym"
   ]
  },
  {
   "cell_type": "code",
   "execution_count": 2,
   "id": "c07d062d",
   "metadata": {},
   "outputs": [],
   "source": [
    "def LagrangeBase(x,xi,j):\n",
    "    \n",
    "    prod = 1.0\n",
    "    n = len(xi)\n",
    "    \n",
    "    for i in range(n):\n",
    "        if i != j:\n",
    "            prod *= (x - xi[i])/(xi[j]-xi[i])\n",
    "            \n",
    "    return prod\n",
    "\n",
    "def Interpolate(x,xi,yi):\n",
    "    \n",
    "    Sum = 0.\n",
    "    n = len(xi)\n",
    "    \n",
    "    for j in range(n):\n",
    "        Sum += yi[j]*LagrangeBase(x,xi,j)\n",
    "        \n",
    "    return Sum\n"
   ]
  },
  {
   "cell_type": "markdown",
   "id": "80772f47",
   "metadata": {},
   "source": [
    "# Tres Puntos"
   ]
  },
  {
   "cell_type": "code",
   "execution_count": 13,
   "id": "de137fc8",
   "metadata": {},
   "outputs": [],
   "source": [
    "h, t ,tn= sym.symbols(\"h,t,t_n\",real=True)"
   ]
  },
  {
   "cell_type": "code",
   "execution_count": 14,
   "id": "454bfcfc",
   "metadata": {},
   "outputs": [
    {
     "data": {
      "text/latex": [
       "$\\displaystyle - \\frac{1.0 f_{n} \\left(- h + t\\right) \\left(h + t\\right)}{h^{2}} + \\frac{0.5 f_{n+1} t \\left(h + t\\right)}{h^{2}} + \\frac{0.5 f_{n-1} t \\left(- h + t\\right)}{h^{2}}$"
      ],
      "text/plain": [
       "-1.0*f_n*(-h + t)*(h + t)/h**2 + 0.5*f_n+1*t*(h + t)/h**2 + 0.5*f_n-1*t*(-h + t)/h**2"
      ]
     },
     "execution_count": 14,
     "metadata": {},
     "output_type": "execute_result"
    }
   ],
   "source": [
    "t_3=[-h,0,h]\n",
    "\n",
    "f1,f2,f3= sym.symbols(\"f_n-1,f_n,f_n+1\",real=True)\n",
    "\n",
    "fs_3=[f1,f2,f3]\n",
    "\n",
    "Poly_3=Interpolate(t,t_3,fs_3)\n",
    "\n",
    "Poly_3"
   ]
  },
  {
   "cell_type": "code",
   "execution_count": 15,
   "id": "438f3cc2",
   "metadata": {},
   "outputs": [
    {
     "data": {
      "text/latex": [
       "$\\displaystyle \\frac{h \\left(8 f_{n} + 5 f_{n+1} - f_{n-1}\\right)}{12}$"
      ],
      "text/plain": [
       "h*(8*f_n + 5*f_n+1 - f_n-1)/12"
      ]
     },
     "execution_count": 15,
     "metadata": {},
     "output_type": "execute_result"
    }
   ],
   "source": [
    "I_3=sym.integrate(Poly_3,(t,0,h))\n",
    "I_3=sym.nsimplify(I_3,tolerance=0.000000000001)\n",
    "I_3=sym.simplify(I_3)\n",
    "I_3"
   ]
  },
  {
   "cell_type": "markdown",
   "id": "98408fd2",
   "metadata": {},
   "source": [
    "# Cuatro Puntos\n"
   ]
  },
  {
   "cell_type": "code",
   "execution_count": 16,
   "id": "cfe922c8",
   "metadata": {},
   "outputs": [
    {
     "data": {
      "text/latex": [
       "$\\displaystyle - \\frac{0.5 f_{n} \\left(- h + t\\right) \\left(h + t\\right) \\left(2 h + t\\right)}{h^{3}} + \\frac{0.166666666666667 f_{n+1} t \\left(h + t\\right) \\left(2 h + t\\right)}{h^{3}} + \\frac{0.5 f_{n-1} t \\left(- h + t\\right) \\left(2 h + t\\right)}{h^{3}} - \\frac{0.166666666666667 f_{n-2} t \\left(- h + t\\right) \\left(h + t\\right)}{h^{3}}$"
      ],
      "text/plain": [
       "-0.5*f_n*(-h + t)*(h + t)*(2*h + t)/h**3 + 0.166666666666667*f_n+1*t*(h + t)*(2*h + t)/h**3 + 0.5*f_n-1*t*(-h + t)*(2*h + t)/h**3 - 0.166666666666667*f_n-2*t*(-h + t)*(h + t)/h**3"
      ]
     },
     "execution_count": 16,
     "metadata": {},
     "output_type": "execute_result"
    }
   ],
   "source": [
    "t_4=[-2*h,-h,0,h]\n",
    "\n",
    "f1,f2,f3,f4= sym.symbols(\"f_n-2,f_n-1,f_n,f_n+1\",real=True)\n",
    "\n",
    "fs_4=[f1,f2,f3,f4]\n",
    "\n",
    "Poly_4=Interpolate(t,t_4,fs_4)\n",
    "\n",
    "Poly_4"
   ]
  },
  {
   "cell_type": "code",
   "execution_count": 17,
   "id": "809aef8a",
   "metadata": {},
   "outputs": [
    {
     "data": {
      "text/latex": [
       "$\\displaystyle \\frac{h \\left(19 f_{n} + 9 f_{n+1} - 5 f_{n-1} + f_{n-2}\\right)}{24}$"
      ],
      "text/plain": [
       "h*(19*f_n + 9*f_n+1 - 5*f_n-1 + f_n-2)/24"
      ]
     },
     "execution_count": 17,
     "metadata": {},
     "output_type": "execute_result"
    }
   ],
   "source": [
    "I_4=sym.integrate(Poly_4,(t,0,h))\n",
    "I_4=sym.nsimplify(I_4,tolerance=0.000000000001)\n",
    "I_4=sym.simplify(I_4)\n",
    "I_4"
   ]
  },
  {
   "cell_type": "code",
   "execution_count": null,
   "id": "3f235d92",
   "metadata": {},
   "outputs": [],
   "source": []
  }
 ],
 "metadata": {
  "kernelspec": {
   "display_name": "Python 3 (ipykernel)",
   "language": "python",
   "name": "python3"
  },
  "language_info": {
   "codemirror_mode": {
    "name": "ipython",
    "version": 3
   },
   "file_extension": ".py",
   "mimetype": "text/x-python",
   "name": "python",
   "nbconvert_exporter": "python",
   "pygments_lexer": "ipython3",
   "version": "3.9.7"
  }
 },
 "nbformat": 4,
 "nbformat_minor": 5
}
