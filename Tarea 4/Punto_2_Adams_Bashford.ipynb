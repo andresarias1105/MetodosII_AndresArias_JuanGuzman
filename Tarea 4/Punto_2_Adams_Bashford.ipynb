{
 "cells": [
  {
   "cell_type": "code",
   "execution_count": 1,
   "id": "9bd5cc57",
   "metadata": {},
   "outputs": [],
   "source": [
    "import numpy as np\n",
    "import matplotlib.pyplot as plt\n",
    "from scipy.integrate import odeint\n",
    "import sympy as sym"
   ]
  },
  {
   "cell_type": "code",
   "execution_count": 75,
   "id": "7cc84a88",
   "metadata": {},
   "outputs": [],
   "source": [
    "def LagrangeBase(x,xi,j):\n",
    "    \n",
    "    prod = 1.0\n",
    "    n = len(xi)\n",
    "    \n",
    "    for i in range(n):\n",
    "        if i != j:\n",
    "            prod *= (x - xi[i])/(xi[j]-xi[i])\n",
    "            \n",
    "    return prod\n",
    "            "
   ]
  },
  {
   "cell_type": "code",
   "execution_count": 76,
   "id": "5131368c",
   "metadata": {},
   "outputs": [],
   "source": [
    "def Interpolate(x,xi,yi):\n",
    "    \n",
    "    Sum = 0.\n",
    "    n = len(xi)\n",
    "    \n",
    "    for j in range(n):\n",
    "        Sum += yi[j]*LagrangeBase(x,xi,j)\n",
    "        \n",
    "    return Sum\n"
   ]
  },
  {
   "cell_type": "markdown",
   "id": "98db7f0c",
   "metadata": {},
   "source": [
    "# Tres Puntos"
   ]
  },
  {
   "cell_type": "code",
   "execution_count": 91,
   "id": "1ffe8109",
   "metadata": {},
   "outputs": [],
   "source": [
    "h, t ,tn= sym.symbols(\"h,t,t_n\",real=True)\n"
   ]
  },
  {
   "cell_type": "code",
   "execution_count": 92,
   "id": "7d17b816",
   "metadata": {},
   "outputs": [],
   "source": [
    "t_3=[-2*h,-h,0]\n",
    "\n",
    "f1,f2,f3= sym.symbols(\"f_n,f_n-1,f_n-2\",real=True)\n",
    "\n",
    "fs_3=[f3,f2,f1]"
   ]
  },
  {
   "cell_type": "code",
   "execution_count": 123,
   "id": "59ab8f8e",
   "metadata": {},
   "outputs": [],
   "source": [
    "Poly_3=Interpolate(t,t_3,fs_3)"
   ]
  },
  {
   "cell_type": "code",
   "execution_count": 124,
   "id": "76c4de80",
   "metadata": {},
   "outputs": [
    {
     "data": {
      "text/latex": [
       "$\\displaystyle \\frac{0.5 f_{n} \\left(h + t\\right) \\left(2 h + t\\right)}{h^{2}} - \\frac{1.0 f_{n-1} t \\left(2 h + t\\right)}{h^{2}} + \\frac{0.5 f_{n-2} t \\left(h + t\\right)}{h^{2}}$"
      ],
      "text/plain": [
       "0.5*f_n*(h + t)*(2*h + t)/h**2 - 1.0*f_n-1*t*(2*h + t)/h**2 + 0.5*f_n-2*t*(h + t)/h**2"
      ]
     },
     "execution_count": 124,
     "metadata": {},
     "output_type": "execute_result"
    }
   ],
   "source": [
    "Poly_3"
   ]
  },
  {
   "cell_type": "code",
   "execution_count": 125,
   "id": "4feb4a11",
   "metadata": {},
   "outputs": [
    {
     "data": {
      "text/latex": [
       "$\\displaystyle \\frac{h \\left(23 f_{n} - 16 f_{n-1} + 5 f_{n-2}\\right)}{12}$"
      ],
      "text/plain": [
       "h*(23*f_n - 16*f_n-1 + 5*f_n-2)/12"
      ]
     },
     "execution_count": 125,
     "metadata": {},
     "output_type": "execute_result"
    }
   ],
   "source": [
    "I_3=sym.integrate(Poly_3,(t,0,h))\n",
    "I_3=sym.nsimplify(I_3,tolerance=0.000000000001)\n",
    "I_3=sym.simplify(I_3)\n",
    "I_3"
   ]
  },
  {
   "cell_type": "code",
   "execution_count": 98,
   "id": "386ebe57",
   "metadata": {},
   "outputs": [
    {
     "data": {
      "text/latex": [
       "$\\displaystyle h \\left(1.91666666666667 f_{n} - 1.33333333333333 f_{n-1} + 0.416666666666667 f_{n-2}\\right)$"
      ],
      "text/plain": [
       "h*(1.91666666666667*f_n - 1.33333333333333*f_n-1 + 0.416666666666667*f_n-2)"
      ]
     },
     "execution_count": 98,
     "metadata": {},
     "output_type": "execute_result"
    }
   ],
   "source": [
    "I_3"
   ]
  },
  {
   "cell_type": "code",
   "execution_count": 99,
   "id": "001158f1",
   "metadata": {},
   "outputs": [
    {
     "name": "stdout",
     "output_type": "stream",
     "text": [
      "1.9166666666666667 -1.3333333333333333 0.4166666666666667\n"
     ]
    }
   ],
   "source": [
    "print(23/12,-16/12,5/12)##Coeficientes exactos"
   ]
  },
  {
   "cell_type": "markdown",
   "id": "b9713826",
   "metadata": {},
   "source": [
    "# Cuatro puntos"
   ]
  },
  {
   "cell_type": "code",
   "execution_count": 105,
   "id": "1db526af",
   "metadata": {},
   "outputs": [],
   "source": [
    "t_4=[-3*h,-2*h,-h,0]\n",
    "\n",
    "f1,f2,f3,f4= sym.symbols(\"f_n,f_n-1,f_n-2,f_n-3\",real=True)\n",
    "\n",
    "fs_4=[f4,f3,f2,f1]"
   ]
  },
  {
   "cell_type": "code",
   "execution_count": 106,
   "id": "83e1aa28",
   "metadata": {},
   "outputs": [
    {
     "data": {
      "text/latex": [
       "$\\displaystyle \\frac{0.166666666666667 f_{n} \\left(h + t\\right) \\left(2 h + t\\right) \\left(3 h + t\\right)}{h^{3}} - \\frac{0.5 f_{n-1} t \\left(2 h + t\\right) \\left(3 h + t\\right)}{h^{3}} + \\frac{0.5 f_{n-2} t \\left(h + t\\right) \\left(3 h + t\\right)}{h^{3}} - \\frac{0.166666666666667 f_{n-3} t \\left(h + t\\right) \\left(2 h + t\\right)}{h^{3}}$"
      ],
      "text/plain": [
       "0.166666666666667*f_n*(h + t)*(2*h + t)*(3*h + t)/h**3 - 0.5*f_n-1*t*(2*h + t)*(3*h + t)/h**3 + 0.5*f_n-2*t*(h + t)*(3*h + t)/h**3 - 0.166666666666667*f_n-3*t*(h + t)*(2*h + t)/h**3"
      ]
     },
     "execution_count": 106,
     "metadata": {},
     "output_type": "execute_result"
    }
   ],
   "source": [
    "Poly_4=Interpolate(t,t_4,fs_4)\n",
    "Poly_4"
   ]
  },
  {
   "cell_type": "code",
   "execution_count": 118,
   "id": "b74b867b",
   "metadata": {},
   "outputs": [
    {
     "data": {
      "text/latex": [
       "$\\displaystyle \\frac{h \\left(55 f_{n} - 59 f_{n-1} + 37 f_{n-2} - 9 f_{n-3}\\right)}{24}$"
      ],
      "text/plain": [
       "h*(55*f_n - 59*f_n-1 + 37*f_n-2 - 9*f_n-3)/24"
      ]
     },
     "execution_count": 118,
     "metadata": {},
     "output_type": "execute_result"
    }
   ],
   "source": [
    "I_4=sym.integrate(Poly_4,(t,0,h))\n",
    "I_4=sym.nsimplify(I_4,tolerance=0.000000000001)\n",
    "I_4=sym.simplify(I_4)\n",
    "I_4"
   ]
  }
 ],
 "metadata": {
  "kernelspec": {
   "display_name": "Python 3 (ipykernel)",
   "language": "python",
   "name": "python3"
  },
  "language_info": {
   "codemirror_mode": {
    "name": "ipython",
    "version": 3
   },
   "file_extension": ".py",
   "mimetype": "text/x-python",
   "name": "python",
   "nbconvert_exporter": "python",
   "pygments_lexer": "ipython3",
   "version": "3.9.7"
  }
 },
 "nbformat": 4,
 "nbformat_minor": 5
}
