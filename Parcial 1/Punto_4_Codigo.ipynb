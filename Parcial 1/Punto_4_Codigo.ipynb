{
 "cells": [
  {
   "cell_type": "code",
   "execution_count": 7,
   "id": "e641887c",
   "metadata": {},
   "outputs": [],
   "source": [
    "import numpy as np\n",
    "import matplotlib.pyplot as plt\n",
    "from scipy import integrate"
   ]
  },
  {
   "cell_type": "code",
   "execution_count": 8,
   "id": "aae10b00",
   "metadata": {},
   "outputs": [],
   "source": [
    "g = 9.81\n",
    "L = 1 "
   ]
  },
  {
   "cell_type": "code",
   "execution_count": 198,
   "id": "f1349760",
   "metadata": {},
   "outputs": [],
   "source": [
    "h = 0.001\n",
    "t = np.arange(0,0.31,h)\n",
    "#t"
   ]
  },
  {
   "cell_type": "code",
   "execution_count": 199,
   "id": "547000fc",
   "metadata": {},
   "outputs": [],
   "source": [
    "def System(r,t,p):\n",
    "    \n",
    "    theta , omega = r\n",
    "    \n",
    "    dthetadt = omega\n",
    "    domegadt = ((2*p[0]/p[1]- omega**2 *np.cos(theta)*np.sin(theta)))/(1/3+ np.sin(theta)**2)\n",
    "   \n",
    "    return [dthetadt,domegadt]"
   ]
  },
  {
   "cell_type": "code",
   "execution_count": 200,
   "id": "1f966e78",
   "metadata": {},
   "outputs": [],
   "source": [
    "def Integrator2(f,r0,t,p):\n",
    "    \n",
    "    h = t[1] - t[0]\n",
    "   \n",
    "    \n",
    "    theta= np.zeros_like(t)\n",
    "    omega= np.zeros_like(t)\n",
    " \n",
    "    theta[0] = r0[0]\n",
    "    omega[0] = r0[1]\n",
    "    \n",
    "    \n",
    "    K1 = np.zeros(2)\n",
    "    K2 = np.zeros(2)\n",
    "    \n",
    "    # Las pendientes instantaneas\n",
    "    R = np.zeros(2)\n",
    "\n",
    "    for i in range(1,len(t)):\n",
    "        \n",
    "        R = np.array([theta[i-1],omega[i-1]])\n",
    "        \n",
    "        K1 = f(R,t[i-1],p)\n",
    "        \n",
    "        R = np.array([theta[i-1]+h*K1[0],omega[i-1]+h*K1[1]])\n",
    "        \n",
    "        K2 = f(R,t[i-1]+h,p)\n",
    "        \n",
    "        theta[i] = theta[i-1] + 0.5*h*(K1[0]+K2[0])\n",
    "        omega[i] = omega[i-1] + 0.5*h*(K1[1]+K2[1])\n",
    "       \n",
    "        \n",
    "      \n",
    "    return theta,omega"
   ]
  },
  {
   "cell_type": "code",
   "execution_count": 201,
   "id": "4a201b76",
   "metadata": {},
   "outputs": [],
   "source": [
    "r0=np.array([10*np.pi/180,0])\n",
    "p=[g,L]"
   ]
  },
  {
   "cell_type": "code",
   "execution_count": 202,
   "id": "b9f3466d",
   "metadata": {},
   "outputs": [],
   "source": [
    "theta,omega = Integrator2(System,r0,t,p)"
   ]
  },
  {
   "cell_type": "code",
   "execution_count": 203,
   "id": "1a20e673",
   "metadata": {},
   "outputs": [],
   "source": [
    "r = integrate.odeint(System,r0,t,args=(p,))"
   ]
  },
  {
   "cell_type": "code",
   "execution_count": 225,
   "id": "5a83b463",
   "metadata": {},
   "outputs": [
    {
     "data": {
      "text/plain": [
       "<matplotlib.legend.Legend at 0x2708f7eb910>"
      ]
     },
     "execution_count": 225,
     "metadata": {},
     "output_type": "execute_result"
    },
    {
     "data": {
      "image/png": "[encoded data removed]",
      "text/plain": [
       "<Figure size 432x288 with 1 Axes>"
      ]
     },
     "metadata": {
      "needs_background": "light"
     },
     "output_type": "display_data"
    }
   ],
   "source": [
    "plt.scatter(L/2*np.sin(theta),L/2*np.cos(theta),label=\"Range-kutta 2\")\n",
    "plt.title(label=\"Trayectoria\")\n",
    "plt.legend()"
   ]
  },
  {
   "cell_type": "code",
   "execution_count": 226,
   "id": "a729107a",
   "metadata": {},
   "outputs": [
    {
     "data": {
      "text/plain": [
       "<matplotlib.legend.Legend at 0x2708f888ee0>"
      ]
     },
     "execution_count": 226,
     "metadata": {},
     "output_type": "execute_result"
    },
    {
     "data": {
      "image/png": "[encoded data removed]",
      "text/plain": [
       "<Figure size 432x288 with 1 Axes>"
      ]
     },
     "metadata": {
      "needs_background": "light"
     },
     "output_type": "display_data"
    }
   ],
   "source": [
    "plt.scatter(L/2*np.sin(r[:,0]),L/2*np.cos(r[:,0]),label=\"IntegrateOde\",c=\"r\")\n",
    "plt.title(label=\"Trayectoria\")\n",
    "plt.legend()"
   ]
  },
  {
   "cell_type": "code",
   "execution_count": 206,
   "id": "7db43785",
   "metadata": {},
   "outputs": [],
   "source": [
    "tcaida=[]\n",
    "tol=1e-3\n",
    "it=0\n",
    "\n",
    "for i in range(len(t)):\n",
    "    \n",
    "    if theta[i] > np.pi/2-tol and theta[i]< np.pi/2 +tol:\n",
    "        \n",
    "        tcaida.append(t[i])\n",
    "        it=i\n",
    "    \n",
    "    \n",
    "t_prom=np.mean(tcaida)"
   ]
  },
  {
   "cell_type": "code",
   "execution_count": 207,
   "id": "a04af46e",
   "metadata": {},
   "outputs": [
    {
     "data": {
      "text/plain": [
       "0.309"
      ]
     },
     "execution_count": 207,
     "metadata": {},
     "output_type": "execute_result"
    }
   ],
   "source": [
    "t_prom ##Tiempo de caida"
   ]
  },
  {
   "cell_type": "code",
   "execution_count": 208,
   "id": "b7d033df",
   "metadata": {},
   "outputs": [
    {
     "name": "stdout",
     "output_type": "stream",
     "text": [
      "1.5703306418664045 1.5707963267948966\n"
     ]
    }
   ],
   "source": [
    "print(theta[it] , np.pi/2)"
   ]
  },
  {
   "cell_type": "code",
   "execution_count": 221,
   "id": "88a116f1",
   "metadata": {},
   "outputs": [
    {
     "data": {
      "text/plain": [
       "<matplotlib.legend.Legend at 0x2708e5babb0>"
      ]
     },
     "execution_count": 221,
     "metadata": {},
     "output_type": "execute_result"
    },
    {
     "data": {
      "image/png": "[encoded data removed]",
      "text/plain": [
       "<Figure size 432x288 with 1 Axes>"
      ]
     },
     "metadata": {
      "needs_background": "light"
     },
     "output_type": "display_data"
    }
   ],
   "source": [
    "plt.plot(t,theta,label=\"theta\")\n",
    "plt.scatter(t_prom,theta[it],color=\"r\",label=\"tiempo de caida\")\n",
    "plt.axhline(np.pi/2,ls=\"--\",c=\"r\",label=\"$\\pi/2$\")\n",
    "plt.legend()"
   ]
  },
  {
   "cell_type": "code",
   "execution_count": null,
   "id": "970649e4",
   "metadata": {},
   "outputs": [],
   "source": []
  }
 ],
 "metadata": {
  "kernelspec": {
   "display_name": "Python 3 (ipykernel)",
   "language": "python",
   "name": "python3"
  },
  "language_info": {
   "codemirror_mode": {
    "name": "ipython",
    "version": 3
   },
   "file_extension": ".py",
   "mimetype": "text/x-python",
   "name": "python",
   "nbconvert_exporter": "python",
   "pygments_lexer": "ipython3",
   "version": "3.9.7"
  }
 },
 "nbformat": 4,
 "nbformat_minor": 5
}
