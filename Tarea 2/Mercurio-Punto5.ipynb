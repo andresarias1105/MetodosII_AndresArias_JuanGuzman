{
 "cells": [
  {
   "cell_type": "code",
   "execution_count": 244,
   "id": "5c396522",
   "metadata": {},
   "outputs": [],
   "source": [
    "import numpy as np\n",
    "import matplotlib.pyplot as plt\n",
    "from tqdm import tqdm"
   ]
  },
  {
   "cell_type": "code",
   "execution_count": 259,
   "id": "a40b8f1a",
   "metadata": {},
   "outputs": [],
   "source": [
    "t = np.arange(0,2.42,1e-4)\n",
    "\n",
    "def Movement(t):\n",
    "    \n",
    "    h = t[1]-t[0]\n",
    "    G = 4*np.pi**2\n",
    "    \n",
    "    r0 = np.array([0.387098*(1+0.205630),0.])\n",
    "    v0 = np.array([0.,np.sqrt(G*(1-0.205630) / r0[0])])\n",
    "    a0 = -G/np.linalg.norm(r0)**3 * r0\n",
    "    \n",
    "    R = np.zeros( (len(t),len(r0)) )\n",
    "    V = np.zeros_like(R)\n",
    "    A = np.zeros_like(R)\n",
    "    \n",
    "    R[0] = r0\n",
    "    V[0] = v0\n",
    "    A[0] = a0\n",
    "           \n",
    "    for i in tqdm(range(1,len(t))):\n",
    "        R[i] = R[i-1] + V[i-1]*h + 0.5*A[i-1]*h**2\n",
    "        A[i] = -G/np.linalg.norm(R[i])**3 * R[i]\n",
    "        V[i] = V[i-1] + 0.5*h*(A[i]+A[i-1])\n",
    "    \n",
    "    return R,A,V\n",
    "    "
   ]
  },
  {
   "cell_type": "code",
   "execution_count": 260,
   "id": "e7278c57",
   "metadata": {},
   "outputs": [
    {
     "name": "stderr",
     "output_type": "stream",
     "text": [
      "100%|█████████████████████████████████████████████████████████████████████████| 24199/24199 [00:01<00:00, 21665.04it/s]\n"
     ]
    }
   ],
   "source": [
    "R,A,V = Movement(t)"
   ]
  },
  {
   "cell_type": "code",
   "execution_count": 286,
   "id": "4cc28816",
   "metadata": {},
   "outputs": [
    {
     "name": "stderr",
     "output_type": "stream",
     "text": [
      "100%|████████████████████████████████████████████████████████████████████████| 24198/24198 [00:00<00:00, 417836.62it/s]\n"
     ]
    }
   ],
   "source": [
    "Dist = np.linalg.norm(R,axis=1)\n",
    "t_ph = []\n",
    "angulo = []\n",
    "\n",
    "for i in tqdm(range(1,len(Dist)-1)):\n",
    "    if Dist[i] < Dist[i-1] and Dist[i] < Dist[i+1]:\n",
    "        t_ph.append(t[i])\n",
    "        ang = np.arctan2(R[i][1],R[i][0])*(180/np.pi)*(3600/1000)\n",
    "        angulo.append(np.abs(ang)) # ESTOY CALCULANDO MAL EL ANGULO\n",
    "        "
   ]
  },
  {
   "cell_type": "code",
   "execution_count": 287,
   "id": "9bd651f4",
   "metadata": {},
   "outputs": [
    {
     "data": {
      "text/plain": [
       "([0.12040000000000001,\n",
       "  0.3613,\n",
       "  0.6021000000000001,\n",
       "  0.8429000000000001,\n",
       "  1.0838,\n",
       "  1.3246,\n",
       "  1.5655000000000001,\n",
       "  1.8063,\n",
       "  2.0472,\n",
       "  2.2880000000000003],\n",
       " [647.8254745898056,\n",
       "  647.6890418660785,\n",
       "  647.961907341325,\n",
       "  647.6128565792872,\n",
       "  647.9016599020545,\n",
       "  647.7492892831699,\n",
       "  647.7652271629888,\n",
       "  647.8857220250928,\n",
       "  647.6287944642824,\n",
       "  647.9778452177313])"
      ]
     },
     "execution_count": 287,
     "metadata": {},
     "output_type": "execute_result"
    }
   ],
   "source": [
    "t_ph,angulo"
   ]
  },
  {
   "cell_type": "code",
   "execution_count": 279,
   "id": "5005088b",
   "metadata": {},
   "outputs": [
    {
     "data": {
      "text/plain": [
       "<matplotlib.collections.PathCollection at 0x211edae5580>"
      ]
     },
     "execution_count": 279,
     "metadata": {},
     "output_type": "execute_result"
    },
    {
     "data": {
      "image/png": "[encoded data removed]",
      "text/plain": [
       "<Figure size 640x480 with 1 Axes>"
      ]
     },
     "metadata": {},
     "output_type": "display_data"
    }
   ],
   "source": [
    "plt.scatter(t_ph,angulo)"
   ]
  },
  {
   "cell_type": "code",
   "execution_count": null,
   "id": "d6279037",
   "metadata": {},
   "outputs": [],
   "source": []
  }
 ],
 "metadata": {
  "kernelspec": {
   "display_name": "Python 3 (ipykernel)",
   "language": "python",
   "name": "python3"
  },
  "language_info": {
   "codemirror_mode": {
    "name": "ipython",
    "version": 3
   },
   "file_extension": ".py",
   "mimetype": "text/x-python",
   "name": "python",
   "nbconvert_exporter": "python",
   "pygments_lexer": "ipython3",
   "version": "3.9.13"
  }
 },
 "nbformat": 4,
 "nbformat_minor": 5
}
