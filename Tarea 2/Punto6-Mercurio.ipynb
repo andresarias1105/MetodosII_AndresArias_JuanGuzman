{
 "cells": [
  {
   "cell_type": "code",
   "execution_count": 125,
   "id": "5c396522",
   "metadata": {},
   "outputs": [],
   "source": [
    "import numpy as np\n",
    "import matplotlib.pyplot as plt\n",
    "from tqdm import tqdm\n",
    "import pandas as pd"
   ]
  },
  {
   "cell_type": "markdown",
   "id": "6c16bfc9",
   "metadata": {},
   "source": [
    "Demostración del método de Verlet Modificado\n",
    "\n",
    "Es necesario partir del desarrollo de Taylor para la posición en un paso de tiempo $\\Delta t$, limitando la serie al término de segundo grado:\n",
    "\n",
    "\\begin{equation}\n",
    "    \\vec{r}(t+\\Delta t) = \\vec{r} + \\vec{v}(t)\\Delta t + \\frac{{\\Delta t}^2}{2}\\vec{a}(t)\n",
    "\\end{equation}\n",
    "\n",
    "Ahora bien, para la velocidad se necesita de la iteración orignal de Verlet en un paso $\\Delta t$ de la siguiente manera:\n",
    "\n",
    "\\begin{equation}\n",
    "    \\vec{v}(t) = \\frac{\\vec{r}(t+\\Delta t) - \\vec{r}(t-\\Delta t)}{2\\Delta t}\n",
    "\\end{equation}\n",
    "\n",
    "\\begin{equation}\n",
    "    \\vec{v}(t+\\Delta t) = \\frac{\\vec{r}(t+2\\Delta t) - \\vec{r}(t)}{2\\Delta t}\n",
    "\\end{equation}\n",
    "\n",
    "Sumando y restando términos a conveniencia tenemos que:\n",
    "\n",
    "\\begin{equation}\n",
    "    \\vec{v}(t+\\Delta t) = \\frac{\\vec{r}(t+2\\Delta t) - \\vec{r}(t) + \\vec{r}(t+\\Delta t) - \\vec{r}(t+\\Delta t) + \\vec{r}(t-\\Delta t) - \\vec{r}(t -\\Delta t) }{2\\Delta t}\n",
    "\\end{equation}\n",
    "\n",
    "\\begin{equation}\n",
    "    \\vec{v}(t+\\Delta t) = \\frac{\\vec{r}(t+\\Delta t) - \\vec{r}(t -\\Delta t)}{2\\Delta t} + \\frac{\\vec{r}(t+2\\Delta t) - \\vec{r}(t) - \\vec{r}(t+\\Delta t) + \\vec{r}(t -\\Delta t)}{2\\Delta t}\n",
    "\\end{equation}\n",
    "\n",
    "El primer término es igual a $\\vec{t}$, reemplazando $-\\vec{r}(t)$ por $-2\\vec{r}(t) + \\vec{r}(t)$ y $-\\vec{r}(t+\\Delta t)$ por $-2\\vec{r}(t+\\Delta t) + \\vec{r}(t+\\Delta t)$ y multiplicando y dividiendo por $\\Delta t$, se obtiene que:\n",
    "\n",
    "\\begin{equation}\n",
    "    \\vec{v}(t+\\Delta t) = \\vec{v}(t) + \\frac{\\Delta t}{2}\\frac{\\vec{r}(t+2\\Delta t) - 2\\vec{r}(t) + \\vec{r}(t) -2\\vec{r}(t+\\Delta t) + \\vec{r}(t+\\Delta t) + \\vec{r}(t -\\Delta t)}{{\\Delta t}^2}\n",
    "\\end{equation}\n",
    "\n",
    "\\begin{equation}\n",
    "    \\vec{v}(t+\\Delta t) = \\vec{v}(t) + \\frac{\\Delta t}{2} \\left(\\frac{\\vec{r}(t+2\\Delta t) -2\\vec{r}(t+\\Delta t) + \\vec{r}(t)}{{\\Delta t}^2} + \\frac{\\vec{r}(t+\\Delta t) - 2\\vec{r}(t) + \\vec{r}(t -\\Delta t)}{{\\Delta t}^2}\\right)\n",
    "\\end{equation}\n",
    "\n",
    "Ahora hay que recordar la iteración original de Verlet para la posición, junto con otro paso adicional de $\\Delta t$\n",
    "\n",
    "\\begin{equation}\n",
    "    \\vec{r}(t+\\Delta t) = 2\\vec{r}(t) - \\vec{r}(t-\\Delta t) + \\vec{a}(t){{\\Delta t}^2}\n",
    "\\end{equation}\n",
    "\n",
    "\\begin{equation}\n",
    "    \\vec{r}(t+2\\Delta t) = 2\\vec{r}(t+\\Delta t) - \\vec{r}(t) + \\vec{a}(t+\\Delta t){{\\Delta t}^2}\n",
    "\\end{equation}\n",
    "\n",
    "Despejando la aceleración de las dos ecuaciones:\n",
    "\n",
    "\\begin{equation}\n",
    "    \\vec{a}(t) = \\frac{\\vec{r}(t-\\Delta t) - 2\\vec{r}(t) + \\vec{r}(t+\\Delta t)}{{\\Delta t}^2}\n",
    "\\end{equation}\n",
    "\n",
    "\\begin{equation}\n",
    "    \\vec{a}(t+\\Delta t) = \\frac{\\vec{r}(t) -2\\vec{r}(t+\\Delta t) + \\vec{r}(t+2\\Delta t)}{{\\Delta t}^2}\n",
    "\\end{equation}\n",
    "\n",
    "Y estas expresiones casualmente concuerdan con lo que se tenía en la última expresión de la velocidad, por lo que al reemplazar se tiene finalmente que:\n",
    "\n",
    "\\begin{equation}\n",
    "    \\vec{v}(t+\\Delta t) = \\vec{v}(t) + \\frac{\\Delta t}{2} \\left(\\frac{\\vec{a}(t)}{{\\Delta t}^2} - \\frac{\\vec{a}(t+\\Delta t)}{{\\Delta t}^2}\\right)\n",
    "\\end{equation}\n",
    "\n",
    "\\begin{equation}\n",
    "    \\vec{v}(t+\\Delta t) = \\vec{v}(t) + \\frac{\\Delta t}{2} \\left(\\vec{a}(t) + \\vec{a}(t+\\Delta t)\\right)\n",
    "\\end{equation}"
   ]
  },
  {
   "cell_type": "code",
   "execution_count": 117,
   "id": "a40b8f1a",
   "metadata": {},
   "outputs": [],
   "source": [
    "t = np.arange(0,2.4,2e-8)\n",
    "G, e, a, alpha = 4*np.pi**2, 0.205630,0.387098,1.1e-8\n",
    "\n",
    "def AC(r):\n",
    "    d = np.linalg.norm(r)\n",
    "    return -r* (G/d**3) * (1 + alpha/d**2)\n",
    "\n",
    "def Movement(p0,t):\n",
    "    \n",
    "    h = t[1]-t[0]\n",
    "    \n",
    "    r0 = p0[0]\n",
    "    v0 = p0[1]\n",
    "    a0 = AC(r0)\n",
    "    \n",
    "    R = np.zeros( (len(t),len(r0)) )\n",
    "    V = np.zeros_like(R)\n",
    "    A = np.zeros_like(R)\n",
    "    \n",
    "    R[0] = r0\n",
    "    V[0] = v0\n",
    "    A[0] = a0\n",
    "           \n",
    "    for i in tqdm(range(0,len(t)-1)):\n",
    "        R[i+1] = R[i] + V[i]*h + 0.5*A[i]*h**2\n",
    "        A[i+1] = AC(R[i+1])\n",
    "        V[i+1] = V[i] + 0.5*h*(A[i]+A[i+1])\n",
    "    \n",
    "    return R,A,V"
   ]
  },
  {
   "cell_type": "code",
   "execution_count": 118,
   "id": "d0b1ce90",
   "metadata": {},
   "outputs": [],
   "source": [
    "p0 = np.array([np.array([a*(1 + e), 0]), np.array([0, np.sqrt(G*(1 - e)/(a*(1 + e)))])])"
   ]
  },
  {
   "cell_type": "code",
   "execution_count": 119,
   "id": "e7278c57",
   "metadata": {
    "scrolled": true
   },
   "outputs": [
    {
     "name": "stderr",
     "output_type": "stream",
     "text": [
      "100%|███████████████████████████████████████████████████████████████| 119999999/119999999 [1:33:24<00:00, 21411.15it/s]\n"
     ]
    }
   ],
   "source": [
    "R,A,V = Movement(p0,t)"
   ]
  },
  {
   "cell_type": "code",
   "execution_count": 123,
   "id": "93eb9b3b",
   "metadata": {},
   "outputs": [
    {
     "data": {
      "text/plain": [
       "<matplotlib.collections.PathCollection at 0x1d7eda52d90>"
      ]
     },
     "execution_count": 123,
     "metadata": {},
     "output_type": "execute_result"
    },
    {
     "data": {
      "image/png": "[encoded data removed]",
      "text/plain": [
       "<Figure size 640x480 with 1 Axes>"
      ]
     },
     "metadata": {},
     "output_type": "display_data"
    }
   ],
   "source": [
    "plt.scatter(R[:,0][::1000],R[:,1][::1000],marker=\".\")\n",
    "plt.scatter(0,0,color=\"y\",marker=\"o\")"
   ]
  },
  {
   "cell_type": "code",
   "execution_count": 176,
   "id": "4cc28816",
   "metadata": {},
   "outputs": [
    {
     "name": "stderr",
     "output_type": "stream",
     "text": [
      "100%|████████████████████████████████████████████████████████████████| 119999998/119999998 [04:01<00:00, 497824.01it/s]\n"
     ]
    }
   ],
   "source": [
    "Dist = np.linalg.norm(R,axis=1)\n",
    "t_ph = []\n",
    "angulo = []\n",
    "\n",
    "for i in tqdm(range(1,len(Dist)-1)):\n",
    "    if Dist[i] < Dist[i-1] and Dist[i] < Dist[i+1]:\n",
    "        t_ph.append(t[i])\n",
    "        ang = np.arctan(R[i][1]/R[i][0])*(180/np.pi)\n",
    "        angulo.append(np.abs(ang))"
   ]
  },
  {
   "cell_type": "code",
   "execution_count": 134,
   "id": "7e55c63c",
   "metadata": {},
   "outputs": [],
   "source": [
    "scale = 10\n",
    "save = pd.DataFrame({\"Rx\":R[:,0][::scale],\"Ry\":R[:,1][::scale],\n",
    "                     \"Ax\":A[:,0][::scale],\"Ay\":A[:,1][::scale],\n",
    "                     \"Vx\":V[:,0][::scale],\"Vy\":V[:,1][::scale]})\n",
    "save.to_csv('Mercurio_precesion_datos.csv', index=False)"
   ]
  },
  {
   "cell_type": "code",
   "execution_count": 137,
   "id": "13ee8cf4",
   "metadata": {},
   "outputs": [],
   "source": [
    "save = pd.DataFrame({\"Tiempo\":t_ph,\"Angulo\":angulo})\n",
    "save.to_csv('Mercurio_precesion_definitvo.csv', index=False)"
   ]
  },
  {
   "cell_type": "code",
   "execution_count": 173,
   "id": "9bd651f4",
   "metadata": {},
   "outputs": [
    {
     "data": {
      "text/plain": [
       "([0.24084150000000001,\n",
       "  0.48168300000000003,\n",
       "  0.7225245,\n",
       "  0.9633660000000001,\n",
       "  1.20420752,\n",
       "  1.4450490200000001,\n",
       "  1.68589052,\n",
       "  1.92673202,\n",
       "  2.16757352],\n",
       " [2.3397643473157516e-05,\n",
       "  4.679970600677968e-05,\n",
       "  7.020568966390583e-05,\n",
       "  9.361624099032022e-05,\n",
       "  0.00016339449390562696,\n",
       "  0.00018681386028536205,\n",
       "  0.00021023690847082915,\n",
       "  0.00023366406596117512,\n",
       "  0.000257095199492912])"
      ]
     },
     "execution_count": 173,
     "metadata": {},
     "output_type": "execute_result"
    }
   ],
   "source": [
    "t_ph,angulo"
   ]
  },
  {
   "cell_type": "code",
   "execution_count": 175,
   "id": "5005088b",
   "metadata": {},
   "outputs": [
    {
     "data": {
      "text/plain": [
       "<matplotlib.legend.Legend at 0x1d7f3d80580>"
      ]
     },
     "execution_count": 175,
     "metadata": {},
     "output_type": "execute_result"
    },
    {
     "data": {
      "image/png": "[encoded data removed]",
      "text/plain": [
       "<Figure size 640x480 with 1 Axes>"
      ]
     },
     "metadata": {},
     "output_type": "display_data"
    }
   ],
   "source": [
    "delta_angulo = []\n",
    "for i in range(len(angulo)-1):\n",
    "    delta_angulo.append(angulo[i]-angulo[0])\n",
    "    \n",
    "P = np.array([np.ones(len(t_ph)), t_ph]).T\n",
    "param = (np.linalg.inv(P.T @ P) @ P.T) @ np.array(angulo)*360000 # [Punto de corte, Pendiente]\n",
    "    \n",
    "plt.plot(2*np.array(t_ph),2*np.array(angulo),marker=\"*\",color=\"r\",\n",
    "         label=\"$\\Omega$ = {:.3f} Arcseconds/Century\".format(param[1]))\n",
    "plt.xlabel(\"Time [Years]\")\n",
    "plt.ylabel(\"$\\Delta \\Phi$ [Grades]\")\n",
    "plt.legend()"
   ]
  },
  {
   "cell_type": "code",
   "execution_count": null,
   "id": "78074d88",
   "metadata": {},
   "outputs": [],
   "source": []
  }
 ],
 "metadata": {
  "kernelspec": {
   "display_name": "Python 3 (ipykernel)",
   "language": "python",
   "name": "python3"
  },
  "language_info": {
   "codemirror_mode": {
    "name": "ipython",
    "version": 3
   },
   "file_extension": ".py",
   "mimetype": "text/x-python",
   "name": "python",
   "nbconvert_exporter": "python",
   "pygments_lexer": "ipython3",
   "version": "3.9.13"
  }
 },
 "nbformat": 4,
 "nbformat_minor": 5
}
