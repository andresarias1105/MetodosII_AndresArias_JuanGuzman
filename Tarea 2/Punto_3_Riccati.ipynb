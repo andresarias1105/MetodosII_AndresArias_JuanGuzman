{
 "cells": [
  {
   "cell_type": "markdown",
   "id": "0aa55438",
   "metadata": {},
   "source": [
    "Se tiene la E.Dif:\n",
    "\n",
    "$$\n",
    "x^3 y'=x^4y^2-2x^2y-1\n",
    "$$\n",
    "\n",
    "Con una solucion particular:\n",
    "\n",
    "$$\n",
    "y_1=x^{-2}\n",
    "$$\n",
    "\n",
    "Reescribiendo La E.dif original:\n",
    "\n",
    "$$\n",
    "\\frac{dy}{dx}-xy^2+\\frac{2}{x} y=\\frac{-1}{x^3}\n",
    "$$\n",
    "\n",
    "Haciendo la sutitucion $y(x)= z(x)+y_1(x)$:\n",
    "\n",
    "$$\n",
    "\\frac{dy}{dx}=\\frac{dz}{dx}+\\frac{dy_1}{dx}= xy^2 - \\frac{2}{x} y -\\frac{1}{x^3}\n",
    "$$\n",
    "\n",
    "Entonces:\n",
    "\n",
    "$$\n",
    "\\frac{dz}{dx} - \\frac{2}{x^3}= xy^2 - \\frac{2}{x} y -\\frac{1}{x^3}\n",
    "$$\n",
    "\n",
    "\n",
    "$$\n",
    "\\frac{dz}{dx} - \\frac{2}{x^3}= x(z+y_1)^2 - \\frac{2}{x}(z+y_1)-\\frac{1}{x^3}\n",
    "$$\n",
    "\n",
    "$$\n",
    "\\frac{dz}{dx} - \\frac{2}{x^3}= xz^2+ \\frac{2z}{x}+ \\frac{1}{x^3} - \\frac{2z}{x}-\\frac{2}{x^3} -\\frac{1}{x^3}\n",
    "$$\n",
    "\n",
    "\n",
    "$$\n",
    "\\frac{dz}{dx}= xz^2\n",
    "$$\n",
    "\n",
    "\n",
    "$$\n",
    "\\int \\frac{dz}{z^2}= \\int x dx\n",
    "$$\n",
    "\n",
    "$$\n",
    "-z^{-1}=\\frac{x^2}{2}+c\n",
    "$$\n",
    "\n",
    "\n",
    "$$\n",
    "z=(-\\frac{x^2}{2}+c)^{-1}\n",
    "$$\n",
    "\n",
    "Entonces:\n",
    "\n",
    "$$\n",
    "y=\\bigg(\\frac{1}{c-\\frac{x^2}{2}}\\bigg) +x^{-2}\n",
    "$$\n"
   ]
  },
  {
   "cell_type": "code",
   "execution_count": 4,
   "id": "fe822d01",
   "metadata": {},
   "outputs": [],
   "source": [
    "import numpy as np\n",
    "import matplotlib.pyplot as plt\n",
    "from scipy import integrate"
   ]
  },
  {
   "cell_type": "code",
   "execution_count": 35,
   "id": "e968c4b4",
   "metadata": {},
   "outputs": [],
   "source": [
    "def f(x,y):\n",
    "    \n",
    "    return x*y**2- 2/x *y -1/x**3"
   ]
  },
  {
   "cell_type": "code",
   "execution_count": 44,
   "id": "095c5ffd",
   "metadata": {},
   "outputs": [],
   "source": [
    "def solexacta(x):\n",
    "    \n",
    "    return (1/(-1-x**2 /2))+ 1/x**2"
   ]
  },
  {
   "cell_type": "code",
   "execution_count": 75,
   "id": "30a7fee1",
   "metadata": {},
   "outputs": [],
   "source": [
    "        \n",
    "def GetRungeKutta4(x,y,h,f):\n",
    "\n",
    "    for i in range(1,len(x)):\n",
    "        \n",
    "        k1 = f(x[i-1],y[i-1])\n",
    "        k2 = f(x[i-1]+0.5*h,y[i-1]+0.5*h*k1)\n",
    "        k3 = f(x[i-1]+0.5*h,y[i-1]+0.5*h*k2)\n",
    "        \n",
    "        k4 = f(x[i-1]+h,y[i-1]+h*k3)\n",
    "        \n",
    "        y[i]= y[i-1]+ h/6 *(k1+2*k2+2*k3+k4)\n"
   ]
  },
  {
   "cell_type": "code",
   "execution_count": 88,
   "id": "4af5a196",
   "metadata": {},
   "outputs": [],
   "source": [
    "N = 1000\n",
    "t = np.linspace(np.sqrt(2),10,N)\n",
    "h = t[1] - t[0]\n",
    "y= np.zeros_like(t)\n",
    "y[0] = 0\n",
    "\n",
    "y_ex= solexacta(t)\n",
    "\n",
    "\n"
   ]
  },
  {
   "cell_type": "code",
   "execution_count": 89,
   "id": "725b8fdb",
   "metadata": {},
   "outputs": [
    {
     "data": {
      "text/plain": [
       "<matplotlib.legend.Legend at 0x1f280330e20>"
      ]
     },
     "execution_count": 89,
     "metadata": {},
     "output_type": "execute_result"
    },
    {
     "data": {
      "image/png": "[encoded data removed]",
      "text/plain": [
       "<Figure size 432x288 with 1 Axes>"
      ]
     },
     "metadata": {
      "needs_background": "light"
     },
     "output_type": "display_data"
    }
   ],
   "source": [
    "GetRungeKutta4(t,y,h,f)\n",
    "plt.plot(t,y,label=\"Range-Kutta 4\")\n",
    "plt.plot(t,y_ex,label=\"Solucion exacta\")\n",
    "plt.legend()"
   ]
  },
  {
   "cell_type": "code",
   "execution_count": 90,
   "id": "b33d94cc",
   "metadata": {},
   "outputs": [
    {
     "data": {
      "text/plain": [
       "<matplotlib.legend.Legend at 0x1f28035ad60>"
      ]
     },
     "execution_count": 90,
     "metadata": {},
     "output_type": "execute_result"
    },
    {
     "data": {
      "image/png": "[encoded data removed]",
      "text/plain": [
       "<Figure size 432x288 with 1 Axes>"
      ]
     },
     "metadata": {
      "needs_background": "light"
     },
     "output_type": "display_data"
    }
   ],
   "source": [
    "plt.plot(t,np.abs(y_ex-y),label=\"Error del metodo\")\n",
    "plt.legend()"
   ]
  }
 ],
 "metadata": {
  "kernelspec": {
   "display_name": "Python 3 (ipykernel)",
   "language": "python",
   "name": "python3"
  },
  "language_info": {
   "codemirror_mode": {
    "name": "ipython",
    "version": 3
   },
   "file_extension": ".py",
   "mimetype": "text/x-python",
   "name": "python",
   "nbconvert_exporter": "python",
   "pygments_lexer": "ipython3",
   "version": "3.9.7"
  }
 },
 "nbformat": 4,
 "nbformat_minor": 5
}
