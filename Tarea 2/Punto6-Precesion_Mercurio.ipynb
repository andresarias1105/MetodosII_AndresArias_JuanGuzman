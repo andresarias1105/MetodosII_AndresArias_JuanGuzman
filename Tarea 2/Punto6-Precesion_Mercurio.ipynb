{
 "cells": [
  {
   "cell_type": "code",
   "execution_count": 1,
   "id": "0a78efb8",
   "metadata": {},
   "outputs": [],
   "source": [
    "import numpy as np\n",
    "import matplotlib.pyplot as plt\n",
    "from tqdm import tqdm"
   ]
  },
  {
   "cell_type": "code",
   "execution_count": null,
   "id": "c76f103e",
   "metadata": {},
   "outputs": [],
   "source": [
    "G, e, a, alpha = 4*np.pi**2, 0.205630,0.387098,1.1e-8\n",
    "\n",
    "def AC(r):\n",
    "    d = np.linalg.norm(r)\n",
    "    return -r* (G/d**3) * (1 + alpha/d**2)\n",
    "\n",
    "def Movement(p0,h):\n",
    "    # p: pasado, f: futuro\n",
    "    \n",
    "    X = np.array([])\n",
    "    V = np.array([])\n",
    "    A = np.array([])\n",
    "    \n",
    "    perihelio = np.array([])\n",
    "    timeup = np.array([])\n",
    "    \n",
    "    r = p0[0]\n",
    "    v = p0[1]\n",
    "    \n",
    "    time = 0\n",
    "    flag = True\n",
    "    \n",
    "    while flag:\n",
    "        a = AC(r)\n",
    "        rf = r + v*h + 0.5*a*h**2\n",
    "        af = A(rf)\n",
    "        rf = v + 0.5*h*(a+af)\n",
    "        \n",
    "        rp = r\n",
    "        vp = v\n",
    "        \n",
    "        r = rf\n",
    "        v = vf\n",
    "    \n",
    "        time += h\n",
    "        \n",
    "        X = np.append(X,r)\n",
    "        \n",
    "        if np.linalg.norm(r) < np.linalg.norm(rp):\n",
    "            derece = True\n",
    "        \n",
    "        elif:\n",
    "            if decrece == True:\n",
    "                timeup = np.append(timeup, time)\n",
    "                angle = np.arctan(r[1]/ r[0])\n",
    "                perihelio = np.append(perihelio, angle)\n",
    "                \n",
    "                decrece = False\n",
    "        \n",
    "        if len(timeup) == 10:\n",
    "            flag = False\n",
    "            "
   ]
  }
 ],
 "metadata": {
  "kernelspec": {
   "display_name": "Python 3 (ipykernel)",
   "language": "python",
   "name": "python3"
  },
  "language_info": {
   "codemirror_mode": {
    "name": "ipython",
    "version": 3
   },
   "file_extension": ".py",
   "mimetype": "text/x-python",
   "name": "python",
   "nbconvert_exporter": "python",
   "pygments_lexer": "ipython3",
   "version": "3.9.13"
  }
 },
 "nbformat": 4,
 "nbformat_minor": 5
}
