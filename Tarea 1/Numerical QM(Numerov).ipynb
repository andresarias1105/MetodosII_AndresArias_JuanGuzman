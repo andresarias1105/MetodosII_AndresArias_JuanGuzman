{
 "cells": [
  {
   "cell_type": "code",
   "execution_count": 1,
   "id": "36795ad5",
   "metadata": {},
   "outputs": [],
   "source": [
    "import numpy as np\n",
    "import matplotlib.pyplot as plt\n",
    "import scipy as sci\n",
    "from tqdm import tqdm\n"
   ]
  },
  {
   "cell_type": "code",
   "execution_count": 26,
   "id": "928c8517",
   "metadata": {},
   "outputs": [],
   "source": [
    "\n",
    "\n",
    "def schrodinger(x,psi,V,E):\n",
    "    \n",
    "    return (V(x)-E)*(psi)\n"
   ]
  },
  {
   "cell_type": "code",
   "execution_count": 27,
   "id": "5dd0d09d",
   "metadata": {},
   "outputs": [],
   "source": [
    "def R(x,V,E):\n",
    "    \n",
    "    return (V(x)-E)\n",
    "\n",
    "def S(x):\n",
    "    \n",
    "    return 0\n"
   ]
  },
  {
   "cell_type": "code",
   "execution_count": 28,
   "id": "35802259",
   "metadata": {},
   "outputs": [],
   "source": [
    "\n",
    "N=1000\n",
    "lims=[-5,5]\n",
    "h=(lims[1]-lims[0])/N\n",
    "x_=np.linspace(lims[0],lims[1],N)\n",
    "\n"
   ]
  },
  {
   "cell_type": "code",
   "execution_count": 29,
   "id": "a9370175",
   "metadata": {},
   "outputs": [],
   "source": [
    "def V(xi):\n",
    "    return 0.5*xi**2\n",
    "\n"
   ]
  },
  {
   "cell_type": "code",
   "execution_count": 38,
   "id": "99925949",
   "metadata": {},
   "outputs": [],
   "source": [
    "def Numerov(V,E,psi0,psi1,x_):\n",
    "    \n",
    "    psi_=np.zeros_like(x_)\n",
    "    \n",
    "    psi_[0]=psi0\n",
    "    psi_[1]=psi1\n",
    "    \n",
    "    for i in tqdm(range(2,len(x_))):\n",
    "        \n",
    "        a=h**2 /12 * (S(x_[i])+10*S(x_[i-1])+S(x_[i-2]))\n",
    "        \n",
    "        b=2*((1+(5*h**2)/12)*R(x_[i-1],V,E))*psi_[i-1]\n",
    "        \n",
    "        c=((1-(h**2)/12)*R(x_[i-2],V,E))*psi_[i-2]\n",
    "        \n",
    "        d=((1-(h**2)/12)*R(x_[i],V,E))\n",
    "        \n",
    "        psi_[i]=(a+b-c)/d\n",
    "           \n",
    "    return psi_\n",
    "        \n",
    "        \n",
    "    "
   ]
  },
  {
   "cell_type": "code",
   "execution_count": 39,
   "id": "40a7d2e3",
   "metadata": {},
   "outputs": [
    {
     "name": "stderr",
     "output_type": "stream",
     "text": [
      "100%|█████████████████████████████████████████████████████████████████████████████| 998/998 [00:00<00:00, 99921.59it/s]\n"
     ]
    },
    {
     "data": {
      "text/plain": [
       "[<matplotlib.lines.Line2D at 0x2491f19a940>]"
      ]
     },
     "execution_count": 39,
     "metadata": {},
     "output_type": "execute_result"
    },
    {
     "data": {
      "image/png": "[encoded data removed]",
      "text/plain": [
       "<Figure size 432x288 with 1 Axes>"
      ]
     },
     "metadata": {
      "needs_background": "light"
     },
     "output_type": "display_data"
    }
   ],
   "source": [
    "\n",
    "Psi_3=Numerov(V,0.5,0,1e-5,x_)\n",
    "\n",
    "plt.plot(x_,Psi_3)"
   ]
  },
  {
   "cell_type": "code",
   "execution_count": null,
   "id": "61facf47",
   "metadata": {},
   "outputs": [],
   "source": []
  }
 ],
 "metadata": {
  "kernelspec": {
   "display_name": "Python 3 (ipykernel)",
   "language": "python",
   "name": "python3"
  },
  "language_info": {
   "codemirror_mode": {
    "name": "ipython",
    "version": 3
   },
   "file_extension": ".py",
   "mimetype": "text/x-python",
   "name": "python",
   "nbconvert_exporter": "python",
   "pygments_lexer": "ipython3",
   "version": "3.9.7"
  }
 },
 "nbformat": 4,
 "nbformat_minor": 5
}
